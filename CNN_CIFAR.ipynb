{
  "nbformat": 4,
  "nbformat_minor": 0,
  "metadata": {
    "colab": {
      "provenance": [],
      "gpuType": "T4",
      "authorship_tag": "ABX9TyOpw6b4GwM77NoQuJYfI23l",
      "include_colab_link": true
    },
    "kernelspec": {
      "name": "python3",
      "display_name": "Python 3"
    },
    "language_info": {
      "name": "python"
    },
    "accelerator": "GPU"
  },
  "cells": [
    {
      "cell_type": "markdown",
      "metadata": {
        "id": "view-in-github",
        "colab_type": "text"
      },
      "source": [
        "<a href=\"https://colab.research.google.com/github/Anshad-Aziz/VOIS_INTERNSHIP/blob/main/CNN_CIFAR.ipynb\" target=\"_parent\"><img src=\"https://colab.research.google.com/assets/colab-badge.svg\" alt=\"Open In Colab\"/></a>"
      ]
    },
    {
      "cell_type": "code",
      "execution_count": 1,
      "metadata": {
        "colab": {
          "base_uri": "https://localhost:8080/"
        },
        "id": "oYFbA8oDDxsm",
        "outputId": "408bf8ff-08f8-4fc2-e494-ffeb9af01369"
      },
      "outputs": [
        {
          "output_type": "stream",
          "name": "stdout",
          "text": [
            "Downloading data from https://www.cs.toronto.edu/~kriz/cifar-10-python.tar.gz\n",
            "170498071/170498071 [==============================] - 3s 0us/step\n"
          ]
        }
      ],
      "source": [
        "\n",
        "import tensorflow as tf\n",
        "\n",
        "(x_train, y_train), (x_test, y_test) = tf.keras.datasets.cifar10.load_data()"
      ]
    },
    {
      "cell_type": "code",
      "source": [
        "print(x_train.shape)\n",
        "print(y_train.shape)\n",
        "print(x_test.shape)\n",
        "print(y_test.shape)"
      ],
      "metadata": {
        "colab": {
          "base_uri": "https://localhost:8080/"
        },
        "id": "SayKnWGcJY9w",
        "outputId": "57e45221-5827-4f05-98af-60edce2b2fda"
      },
      "execution_count": 2,
      "outputs": [
        {
          "output_type": "stream",
          "name": "stdout",
          "text": [
            "(50000, 32, 32, 3)\n",
            "(50000, 1)\n",
            "(10000, 32, 32, 3)\n",
            "(10000, 1)\n"
          ]
        }
      ]
    },
    {
      "cell_type": "code",
      "source": [
        "import numpy as np\n",
        "np.unique(y_train)"
      ],
      "metadata": {
        "colab": {
          "base_uri": "https://localhost:8080/"
        },
        "id": "xWEtLozCJf8F",
        "outputId": "19fbf17f-a21e-4e0f-bc84-0a66b15aa497"
      },
      "execution_count": 3,
      "outputs": [
        {
          "output_type": "execute_result",
          "data": {
            "text/plain": [
              "array([0, 1, 2, 3, 4, 5, 6, 7, 8, 9], dtype=uint8)"
            ]
          },
          "metadata": {},
          "execution_count": 3
        }
      ]
    },
    {
      "cell_type": "code",
      "source": [
        "label = ['airplane','automobile','bird','cat','deer','dog','frog','horse','ship','truck']"
      ],
      "metadata": {
        "id": "MOxLB9SMJf4u"
      },
      "execution_count": 4,
      "outputs": []
    },
    {
      "cell_type": "code",
      "source": [
        "len(label)"
      ],
      "metadata": {
        "colab": {
          "base_uri": "https://localhost:8080/"
        },
        "id": "sP5kO6DzJfks",
        "outputId": "537bb290-c31d-43a1-cc2e-e45d4b7e6023"
      },
      "execution_count": 5,
      "outputs": [
        {
          "output_type": "execute_result",
          "data": {
            "text/plain": [
              "10"
            ]
          },
          "metadata": {},
          "execution_count": 5
        }
      ]
    },
    {
      "cell_type": "code",
      "source": [
        "import matplotlib.pyplot as plt\n",
        "i = np.random.randint(1,50000)\n",
        "op = label[y_train[i][0]]\n",
        "plt.imshow(x_train[i])\n",
        "plt.title(f'Image is {op}')\n",
        "plt.show()"
      ],
      "metadata": {
        "colab": {
          "base_uri": "https://localhost:8080/",
          "height": 452
        },
        "id": "nWmBCAIMJfhq",
        "outputId": "75b53ab0-2d96-4fa6-f217-5198e7e98c83"
      },
      "execution_count": 6,
      "outputs": [
        {
          "output_type": "display_data",
          "data": {
            "text/plain": [
              "<Figure size 640x480 with 1 Axes>"
            ],
            "image/png": "[encoded data removed]"
          },
          "metadata": {}
        }
      ]
    },
    {
      "cell_type": "code",
      "source": [
        "x_train =x_train/255\n",
        "x_test = x_test/255"
      ],
      "metadata": {
        "id": "xuYqTIUSJfeZ"
      },
      "execution_count": 7,
      "outputs": []
    },
    {
      "cell_type": "code",
      "source": [
        "32*32*3"
      ],
      "metadata": {
        "colab": {
          "base_uri": "https://localhost:8080/"
        },
        "id": "1LqX1UFNJfaf",
        "outputId": "c2936c11-c45d-49d7-ff48-6e4bfa2e0783"
      },
      "execution_count": 8,
      "outputs": [
        {
          "output_type": "execute_result",
          "data": {
            "text/plain": [
              "3072"
            ]
          },
          "metadata": {},
          "execution_count": 8
        }
      ]
    },
    {
      "cell_type": "code",
      "source": [
        "\n",
        "# Build a ANN model\n",
        "\n",
        "ann = tf.keras.Sequential()\n",
        "ann.add(tf.keras.layers.Flatten(input_shape=(32,32,3)))\n",
        "ann.add(tf.keras.layers.Dense(2048,activation='relu'))\n",
        "ann.add(tf.keras.layers.Dense(1024,activation='relu'))\n",
        "ann.add(tf.keras.layers.Dense(10,activation='softmax'))"
      ],
      "metadata": {
        "id": "tcJAWLNPJfTj"
      },
      "execution_count": 9,
      "outputs": []
    },
    {
      "cell_type": "code",
      "source": [
        "ann.summary()"
      ],
      "metadata": {
        "colab": {
          "base_uri": "https://localhost:8080/"
        },
        "id": "eiWCwwOkJfQW",
        "outputId": "c00d32e7-857d-496d-bc60-76debfea1df8"
      },
      "execution_count": 10,
      "outputs": [
        {
          "output_type": "stream",
          "name": "stdout",
          "text": [
            "Model: \"sequential\"\n",
            "_________________________________________________________________\n",
            " Layer (type)                Output Shape              Param #   \n",
            "=================================================================\n",
            " flatten (Flatten)           (None, 3072)              0         \n",
            "                                                                 \n",
            " dense (Dense)               (None, 2048)              6293504   \n",
            "                                                                 \n",
            " dense_1 (Dense)             (None, 1024)              2098176   \n",
            "                                                                 \n",
            " dense_2 (Dense)             (None, 10)                10250     \n",
            "                                                                 \n",
            "=================================================================\n",
            "Total params: 8401930 (32.05 MB)\n",
            "Trainable params: 8401930 (32.05 MB)\n",
            "Non-trainable params: 0 (0.00 Byte)\n",
            "_________________________________________________________________\n"
          ]
        }
      ]
    },
    {
      "cell_type": "code",
      "source": [
        "ann.compile(optimizer='adam',loss=tf.keras.losses.SparseCategoricalCrossentropy(),metrics=['accuracy'])"
      ],
      "metadata": {
        "id": "jcmSwGJoJ1fe"
      },
      "execution_count": 11,
      "outputs": []
    },
    {
      "cell_type": "code",
      "source": [
        "ann.fit(x_train,y_train,epochs=10,validation_data=(x_test,y_test))"
      ],
      "metadata": {
        "colab": {
          "base_uri": "https://localhost:8080/"
        },
        "id": "WY9rtELhJ3fG",
        "outputId": "b40ca01e-f9a6-4878-94a2-682c9209e12d"
      },
      "execution_count": 12,
      "outputs": [
        {
          "output_type": "stream",
          "name": "stdout",
          "text": [
            "Epoch 1/10\n",
            "1563/1563 [==============================] - 14s 6ms/step - loss: 1.8765 - accuracy: 0.3283 - val_loss: 1.7503 - val_accuracy: 0.3742\n",
            "Epoch 2/10\n",
            "1563/1563 [==============================] - 9s 6ms/step - loss: 1.6750 - accuracy: 0.3986 - val_loss: 1.6261 - val_accuracy: 0.4205\n",
            "Epoch 3/10\n",
            "1563/1563 [==============================] - 8s 5ms/step - loss: 1.6053 - accuracy: 0.4222 - val_loss: 1.5606 - val_accuracy: 0.4456\n",
            "Epoch 4/10\n",
            "1563/1563 [==============================] - 9s 6ms/step - loss: 1.5544 - accuracy: 0.4409 - val_loss: 1.6019 - val_accuracy: 0.4265\n",
            "Epoch 5/10\n",
            "1563/1563 [==============================] - 13s 8ms/step - loss: 1.5159 - accuracy: 0.4541 - val_loss: 1.5151 - val_accuracy: 0.4626\n",
            "Epoch 6/10\n",
            "1563/1563 [==============================] - 9s 6ms/step - loss: 1.4824 - accuracy: 0.4666 - val_loss: 1.5512 - val_accuracy: 0.4454\n",
            "Epoch 7/10\n",
            "1563/1563 [==============================] - 9s 5ms/step - loss: 1.4606 - accuracy: 0.4774 - val_loss: 1.5099 - val_accuracy: 0.4602\n",
            "Epoch 8/10\n",
            "1563/1563 [==============================] - 8s 5ms/step - loss: 1.4344 - accuracy: 0.4874 - val_loss: 1.4989 - val_accuracy: 0.4692\n",
            "Epoch 9/10\n",
            "1563/1563 [==============================] - 8s 5ms/step - loss: 1.4126 - accuracy: 0.4935 - val_loss: 1.4661 - val_accuracy: 0.4838\n",
            "Epoch 10/10\n",
            "1563/1563 [==============================] - 9s 6ms/step - loss: 1.3917 - accuracy: 0.5001 - val_loss: 1.5300 - val_accuracy: 0.4677\n"
          ]
        },
        {
          "output_type": "execute_result",
          "data": {
            "text/plain": [
              "<keras.src.callbacks.History at 0x7aff0036bf70>"
            ]
          },
          "metadata": {},
          "execution_count": 12
        }
      ]
    },
    {
      "cell_type": "code",
      "source": [
        "import time\n",
        "\n",
        "# Your code here...\n",
        "\n",
        "t0 = time.time()\n",
        "# Perform some actions or calculations...\n",
        "t1 = time.time() - t0\n",
        "print(\"ann_exe_time:\", t1)\n"
      ],
      "metadata": {
        "colab": {
          "base_uri": "https://localhost:8080/"
        },
        "id": "FTzGwse6J5OM",
        "outputId": "78554895-66e0-444e-864d-b2c352005738"
      },
      "execution_count": 15,
      "outputs": [
        {
          "output_type": "stream",
          "name": "stdout",
          "text": [
            "ann_exe_time: 7.963180541992188e-05\n"
          ]
        }
      ]
    },
    {
      "cell_type": "code",
      "source": [
        "cnn1 = tf.keras.Sequential()\n",
        "cnn1.add(tf.keras.layers.Conv2D(32,kernel_size=(3,3),activation='relu',input_shape=(32,32,3)))\n",
        "cnn1.add(tf.keras.layers.MaxPooling2D())\n",
        "cnn1.add(tf.keras.layers.Conv2D(64,kernel_size=(3,3),activation='relu'))\n",
        "cnn1.add(tf.keras.layers.MaxPooling2D())\n",
        "cnn1.add(tf.keras.layers.Conv2D(32,kernel_size=(3,3),activation='relu'))\n",
        "cnn1.add(tf.keras.layers.Flatten())\n",
        "cnn1.add(tf.keras.layers.Dense(64,activation='relu'))\n",
        "cnn1.add(tf.keras.layers.Dense(10,activation='softmax'))"
      ],
      "metadata": {
        "id": "0VVfQM1oJ81M"
      },
      "execution_count": 16,
      "outputs": []
    },
    {
      "cell_type": "code",
      "source": [
        "cnn1.summary()"
      ],
      "metadata": {
        "colab": {
          "base_uri": "https://localhost:8080/"
        },
        "id": "2wXVBzFrJ8x1",
        "outputId": "d99255cb-4a1e-4fcb-c8fa-1c6eebbec6bc"
      },
      "execution_count": 17,
      "outputs": [
        {
          "output_type": "stream",
          "name": "stdout",
          "text": [
            "Model: \"sequential_1\"\n",
            "_________________________________________________________________\n",
            " Layer (type)                Output Shape              Param #   \n",
            "=================================================================\n",
            " conv2d (Conv2D)             (None, 30, 30, 32)        896       \n",
            "                                                                 \n",
            " max_pooling2d (MaxPooling2  (None, 15, 15, 32)        0         \n",
            " D)                                                              \n",
            "                                                                 \n",
            " conv2d_1 (Conv2D)           (None, 13, 13, 64)        18496     \n",
            "                                                                 \n",
            " max_pooling2d_1 (MaxPoolin  (None, 6, 6, 64)          0         \n",
            " g2D)                                                            \n",
            "                                                                 \n",
            " conv2d_2 (Conv2D)           (None, 4, 4, 32)          18464     \n",
            "                                                                 \n",
            " flatten_1 (Flatten)         (None, 512)               0         \n",
            "                                                                 \n",
            " dense_3 (Dense)             (None, 64)                32832     \n",
            "                                                                 \n",
            " dense_4 (Dense)             (None, 10)                650       \n",
            "                                                                 \n",
            "=================================================================\n",
            "Total params: 71338 (278.66 KB)\n",
            "Trainable params: 71338 (278.66 KB)\n",
            "Non-trainable params: 0 (0.00 Byte)\n",
            "_________________________________________________________________\n"
          ]
        }
      ]
    },
    {
      "cell_type": "code",
      "source": [
        "cnn1.compile(optimizer='adam',loss=tf.keras.losses.SparseCategoricalCrossentropy(),metrics=['accuracy'])"
      ],
      "metadata": {
        "id": "oVlB_OMCJ8vE"
      },
      "execution_count": 18,
      "outputs": []
    },
    {
      "cell_type": "code",
      "source": [
        "cnn1.fit(x_train,y_train,epochs=10,validation_data=(x_test,y_test))"
      ],
      "metadata": {
        "colab": {
          "base_uri": "https://localhost:8080/"
        },
        "id": "3iySTvROKErB",
        "outputId": "153f52a0-5c3b-48bd-a3be-808372e46c65"
      },
      "execution_count": 19,
      "outputs": [
        {
          "output_type": "stream",
          "name": "stdout",
          "text": [
            "Epoch 1/10\n",
            "1563/1563 [==============================] - 15s 5ms/step - loss: 1.6225 - accuracy: 0.4039 - val_loss: 1.3583 - val_accuracy: 0.5081\n",
            "Epoch 2/10\n",
            "1563/1563 [==============================] - 9s 6ms/step - loss: 1.2880 - accuracy: 0.5339 - val_loss: 1.2616 - val_accuracy: 0.5480\n",
            "Epoch 3/10\n",
            "1563/1563 [==============================] - 8s 5ms/step - loss: 1.1691 - accuracy: 0.5812 - val_loss: 1.1335 - val_accuracy: 0.5986\n",
            "Epoch 4/10\n",
            "1563/1563 [==============================] - 8s 5ms/step - loss: 1.0838 - accuracy: 0.6158 - val_loss: 1.0768 - val_accuracy: 0.6149\n",
            "Epoch 5/10\n",
            "1563/1563 [==============================] - 9s 6ms/step - loss: 1.0267 - accuracy: 0.6327 - val_loss: 1.0767 - val_accuracy: 0.6168\n",
            "Epoch 6/10\n",
            "1563/1563 [==============================] - 8s 5ms/step - loss: 0.9758 - accuracy: 0.6550 - val_loss: 1.0955 - val_accuracy: 0.6105\n",
            "Epoch 7/10\n",
            "1563/1563 [==============================] - 8s 5ms/step - loss: 0.9365 - accuracy: 0.6697 - val_loss: 1.0151 - val_accuracy: 0.6500\n",
            "Epoch 8/10\n",
            "1563/1563 [==============================] - 8s 5ms/step - loss: 0.9034 - accuracy: 0.6817 - val_loss: 1.0019 - val_accuracy: 0.6415\n",
            "Epoch 9/10\n",
            "1563/1563 [==============================] - 8s 5ms/step - loss: 0.8754 - accuracy: 0.6912 - val_loss: 0.9891 - val_accuracy: 0.6578\n",
            "Epoch 10/10\n",
            "1563/1563 [==============================] - 8s 5ms/step - loss: 0.8457 - accuracy: 0.7002 - val_loss: 0.9499 - val_accuracy: 0.6705\n"
          ]
        },
        {
          "output_type": "execute_result",
          "data": {
            "text/plain": [
              "<keras.src.callbacks.History at 0x7aff6e583100>"
            ]
          },
          "metadata": {},
          "execution_count": 19
        }
      ]
    },
    {
      "cell_type": "code",
      "source": [],
      "metadata": {
        "id": "nxb6BAOlKEng"
      },
      "execution_count": null,
      "outputs": []
    }
  ]
}